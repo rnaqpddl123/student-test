{
 "cells": [
  {
   "cell_type": "code",
   "execution_count": 2,
   "metadata": {},
   "outputs": [],
   "source": [
    "import random"
   ]
  },
  {
   "cell_type": "code",
   "execution_count": 40,
   "metadata": {
    "scrolled": false
   },
   "outputs": [
    {
     "name": "stdout",
     "output_type": "stream",
     "text": [
      "4\n",
      "[2, 0, 1, 2]\n",
      "[0, 1, 2, 2]\n",
      "[(0, 1), (1, 1), (2, 2)]\n"
     ]
    }
   ],
   "source": [
    "# random 함수를 이용해 난수 n개를 발생시켜 list에 담고, list내부 원소들의 개수를 dictionary에 담아 각 숫자의 개수를 출력하시오.\n",
    "# used functions: random, for, if, sorted, sorted(dic.items())\n",
    "\n",
    "rnc = input()  # random number count\n",
    "n = int(rnc)\n",
    "rnl = []   # random number list\n",
    "ncd = {}   # number check dict\n",
    "\n",
    "for i in range(n):\n",
    "    a = random.randrange(n)\n",
    "    rnl.append(a)\n",
    "    \n",
    "    if a not in ncd:\n",
    "        ncd[a] = 1       \n",
    "    elif a in ncd:\n",
    "        ncd[a] += 1\n",
    "\n",
    "print(rnl)\n",
    "print(sorted(rnl))\n",
    "print(sorted(ncd.items()))"
   ]
  },
  {
   "cell_type": "code",
   "execution_count": 13,
   "metadata": {},
   "outputs": [],
   "source": [
    "from functools import reduce"
   ]
  },
  {
   "cell_type": "code",
   "execution_count": 31,
   "metadata": {},
   "outputs": [
    {
     "name": "stdout",
     "output_type": "stream",
     "text": [
      "8\n",
      "<class 'int'>\n",
      "<class 'list'>\n",
      "40320\n"
     ]
    }
   ],
   "source": [
    "# reduce 함수를 이용해 n factoiral을 출력하는 프로그램을 작성하시오.\n",
    "# used functions : reduce, lambda\n",
    "\n",
    "fcn = input()\n",
    "fcl = list(range(1, int(fcn)+1))\n",
    "fact = reduce(lambda n1, n2 : n1 * n2, fcl)\n",
    "\n",
    "print(fact)\n"
   ]
  },
  {
   "cell_type": "code",
   "execution_count": null,
   "metadata": {},
   "outputs": [],
   "source": []
  }
 ],
 "metadata": {
  "kernelspec": {
   "display_name": "Python 3",
   "language": "python",
   "name": "python3"
  },
  "language_info": {
   "codemirror_mode": {
    "name": "ipython",
    "version": 3
   },
   "file_extension": ".py",
   "mimetype": "text/x-python",
   "name": "python",
   "nbconvert_exporter": "python",
   "pygments_lexer": "ipython3",
   "version": "3.8.5"
  }
 },
 "nbformat": 4,
 "nbformat_minor": 4
}
