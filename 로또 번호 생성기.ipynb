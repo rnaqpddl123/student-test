{
 "cells": [
  {
   "cell_type": "code",
   "execution_count": null,
   "metadata": {},
   "outputs": [
    {
     "name": "stdout",
     "output_type": "stream",
     "text": [
      "로또 번호 생성기 입니다\n"
     ]
    }
   ],
   "source": [
    "\n",
    "#로또 번호 생성기 1~45번호를 겹치지않게 생성하시오\n",
    "#반복할 게임수를 설정하시오\n",
    "\n",
    "import random   # random이라는 library 사용하겠다 또는 random 이라는 moudle 사용하겠다..\n",
    "\n",
    "count = 0    #초기 count값 설정\n",
    "\n",
    "print(\"로또 번호 생성기 입니다\")\n",
    "\n",
    "num = input(\"몇개를 생성하시겠습니까 : \")  #반복할 게임수 입력\n",
    "\n",
    "while count < int(num):  # 입력한 게임수(num)만큼 반복\n",
    "    \n",
    "    count += 1           \n",
    "    lotto = set()        #중복 숫자 방지를 위하여 set으로 저장\n",
    "    lotto_list = []      #lotto_list 정의\n",
    "    \n",
    "    while len(lotto) < 6 :   #lotto의 길이가 6이되면 끝나게 만들기위한식\n",
    "    \n",
    "        lotto.add(random.randrange(1,46)) #lotto라는 set에 랜덤1~45까지의 랜덤 변수 추가하기\n",
    "                                          #만약 중복숫자가 나온다면 set으로 저장했기 때문에 lotto는 변하지않는다\n",
    "    \n",
    "    lotto_list = list(lotto) # set을 list의 형태로 저장\n",
    "    lotto_list.sort()      #sort를 활용해서 오름차순으로 정렬\n",
    "    print(lotto_list)   \n",
    "\n",
    "print(\"이용해주셔서 감사합니다\")\n",
    "\n"
   ]
  },
  {
   "cell_type": "code",
   "execution_count": null,
   "metadata": {},
   "outputs": [],
   "source": [
    "\n",
    "\n"
   ]
  },
  {
   "cell_type": "code",
   "execution_count": null,
   "metadata": {},
   "outputs": [],
   "source": []
  }
 ],
 "metadata": {
  "kernelspec": {
   "display_name": "Python 3",
   "language": "python",
   "name": "python3"
  },
  "language_info": {
   "codemirror_mode": {
    "name": "ipython",
    "version": 3
   },
   "file_extension": ".py",
   "mimetype": "text/x-python",
   "name": "python",
   "nbconvert_exporter": "python",
   "pygments_lexer": "ipython3",
   "version": "3.8.5"
  }
 },
 "nbformat": 4,
 "nbformat_minor": 4
}
