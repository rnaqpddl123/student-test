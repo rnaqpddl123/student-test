{
 "cells": [
  {
   "cell_type": "code",
   "execution_count": 1,
   "metadata": {},
   "outputs": [],
   "source": [
    "'''\n",
    "class와 파일확장자이용해서 버전업그레이를 해보았습니다\n",
    "'''\n",
    "class Iphone1:\n",
    "    '''\n",
    "    iphone 기능들을 하나씩 추가해보았습니다\n",
    "    '''\n",
    "    def __init__(self, name, number, version=1.0):\n",
    "        self.name = name\n",
    "        self.number = number\n",
    "        self.version = version\n",
    "    def update_version(self):\n",
    "        '''\n",
    "        version 설정\n",
    "        '''\n",
    "        if self.version == 1.0:\n",
    "            print('현재 폰의 버전은 [Version {}] 입니다.'.format(self.version))\n",
    "    def calling(self,person): # pylint: disable=invalid-name\n",
    "        '''\n",
    "        번호를 입력해서 전화걸기\n",
    "        '''\n",
    "        input_person = person\n",
    "        phone_number = input('번호를 입력하세요 : ')\n",
    "        self.number = phone_number\n",
    "        print('{0}({1})에게 전화를 겁니다.'.format(input_person,phone_number))\n",
    "class Iphone2(Iphone1):\n",
    "    '''\n",
    "    버전업그레이드,문자내용추가\n",
    "    '''\n",
    "    def __init__(self, name, number, version=2.0):\n",
    "        Iphone1.__init__(self, name, number, version)\n",
    "    def update_version(self):\n",
    "        if self.version == 2.0:\n",
    "            print('현재 폰의 버전은 [Version {}] 입니다.'.format(self.version))\n",
    "    def message(self):\n",
    "        '''\n",
    "        문자메세지 기능추가\n",
    "        '''\n",
    "        phone_number = input('번호를 입력하세요 : ')\n",
    "        text = input('내용을 입력하세요 : ')\n",
    "        print('[문자 전송 완료]\\n번호 : {0}\\n내용 : {1}'\\\n",
    "            .format(phone_number,text))\n",
    "class Iphone3(Iphone2):\n",
    "    '''\n",
    "    버전업그레이드 wifi비밀번호추가, 전화번호부추가\n",
    "    '''\n",
    "    def __init__(self, name, number, version=3.0):\n",
    "        Iphone2.__init__(self, name, number, version)\n",
    "    def update_version(self):\n",
    "        if self.version == 3.0:\n",
    "            print('현재 폰의 버전은 [Version {}] 입니다.'.format(self.version))\n",
    "    def wifi(self):\n",
    "        '''\n",
    "        wifi비밀번호기능추가\n",
    "        '''\n",
    "        wifi_pw = 1234\n",
    "        input_pw = 0\n",
    "        while input_pw != wifi_pw:\n",
    "            input_pw = int(input('wifi 비밀번호 입력 : '))\n",
    "            if input_pw == wifi_pw :\n",
    "                print('WIFI에 연결되었습니다.')\n",
    "            else :\n",
    "                print('비밀번호 불일치')\n",
    "    def person(self):\n",
    "        '''\n",
    "        전화번호부 찾는기능 추가\n",
    "        '''\n",
    "        with open('phone_data.txt', 'r', encoding='utf-8') as f_1:\n",
    "            input_id = input()\n",
    "            for linedata in f_1:\n",
    "                output_id = linedata.find(input_id) #각 linedata에 input한게 들어있나 확인\n",
    "                if output_id >= 0:\n",
    "                    print(linedata)\n",
    "                    "
   ]
  },
  {
   "cell_type": "code",
   "execution_count": 2,
   "metadata": {},
   "outputs": [
    {
     "name": "stdout",
     "output_type": "stream",
     "text": [
      "2\n",
      "01012341234 김철수\n",
      "\n",
      "01022222222 김미미\n",
      "\n",
      "01025645555 박종민\n",
      "\n",
      "01012345678 김철순\n"
     ]
    }
   ],
   "source": [
    "a = Iphone3(1,2,3.4)\n",
    "a.person()"
   ]
  },
  {
   "cell_type": "code",
   "execution_count": null,
   "metadata": {},
   "outputs": [],
   "source": []
  }
 ],
 "metadata": {
  "kernelspec": {
   "display_name": "Python 3",
   "language": "python",
   "name": "python3"
  },
  "language_info": {
   "codemirror_mode": {
    "name": "ipython",
    "version": 3
   },
   "file_extension": ".py",
   "mimetype": "text/x-python",
   "name": "python",
   "nbconvert_exporter": "python",
   "pygments_lexer": "ipython3",
   "version": "3.8.5"
  }
 },
 "nbformat": 4,
 "nbformat_minor": 4
}
